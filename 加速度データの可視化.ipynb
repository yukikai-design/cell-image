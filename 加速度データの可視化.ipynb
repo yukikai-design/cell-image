{
 "cells": [
  {
   "cell_type": "code",
   "execution_count": 1,
   "metadata": {},
   "outputs": [
    {
     "name": "stderr",
     "output_type": "stream",
     "text": [
      "/Users/macbook/.pyenv/versions/3.8.3/lib/python3.8/site-packages/pandas/compat/__init__.py:120: UserWarning: Could not import the lzma module. Your installed Python is incomplete. Attempting to use lzma compression will result in a RuntimeError.\n",
      "  warnings.warn(msg)\n"
     ]
    }
   ],
   "source": [
    "import pandas as pd\n",
    "import numpy as np\n",
    "import matplotlib.pyplot as plt\n",
    "%matplotlib inline\n",
    "import datetime as dt"
   ]
  },
  {
   "cell_type": "code",
   "execution_count": 2,
   "metadata": {},
   "outputs": [
    {
     "data": {
      "text/html": [
       "<div>\n",
       "<style scoped>\n",
       "    .dataframe tbody tr th:only-of-type {\n",
       "        vertical-align: middle;\n",
       "    }\n",
       "\n",
       "    .dataframe tbody tr th {\n",
       "        vertical-align: top;\n",
       "    }\n",
       "\n",
       "    .dataframe thead th {\n",
       "        text-align: right;\n",
       "    }\n",
       "</style>\n",
       "<table border=\"1\" class=\"dataframe\">\n",
       "  <thead>\n",
       "    <tr style=\"text-align: right;\">\n",
       "      <th></th>\n",
       "      <th>Acceleration(G)</th>\n",
       "    </tr>\n",
       "    <tr>\n",
       "      <th>Timestamp</th>\n",
       "      <th></th>\n",
       "    </tr>\n",
       "  </thead>\n",
       "  <tbody>\n",
       "    <tr>\n",
       "      <th>2020/11/14 01:20:07.257</th>\n",
       "      <td>0.998107</td>\n",
       "    </tr>\n",
       "    <tr>\n",
       "      <th>2020/11/14 01:20:07.349</th>\n",
       "      <td>0.996777</td>\n",
       "    </tr>\n",
       "    <tr>\n",
       "      <th>2020/11/14 01:20:07.448</th>\n",
       "      <td>0.993744</td>\n",
       "    </tr>\n",
       "    <tr>\n",
       "      <th>2020/11/14 01:20:07.549</th>\n",
       "      <td>0.998040</td>\n",
       "    </tr>\n",
       "    <tr>\n",
       "      <th>2020/11/14 01:20:07.649</th>\n",
       "      <td>0.997046</td>\n",
       "    </tr>\n",
       "    <tr>\n",
       "      <th>...</th>\n",
       "      <td>...</td>\n",
       "    </tr>\n",
       "    <tr>\n",
       "      <th>2020/11/14 06:40:50.347</th>\n",
       "      <td>0.998916</td>\n",
       "    </tr>\n",
       "    <tr>\n",
       "      <th>2020/11/14 06:40:50.448</th>\n",
       "      <td>0.998916</td>\n",
       "    </tr>\n",
       "    <tr>\n",
       "      <th>2020/11/14 06:40:50.547</th>\n",
       "      <td>0.998916</td>\n",
       "    </tr>\n",
       "    <tr>\n",
       "      <th>2020/11/14 06:40:50.646</th>\n",
       "      <td>0.998916</td>\n",
       "    </tr>\n",
       "    <tr>\n",
       "      <th>2020/11/14 06:40:50.769</th>\n",
       "      <td>0.998916</td>\n",
       "    </tr>\n",
       "  </tbody>\n",
       "</table>\n",
       "<p>192341 rows × 1 columns</p>\n",
       "</div>"
      ],
      "text/plain": [
       "                         Acceleration(G)\n",
       "Timestamp                               \n",
       "2020/11/14 01:20:07.257         0.998107\n",
       "2020/11/14 01:20:07.349         0.996777\n",
       "2020/11/14 01:20:07.448         0.993744\n",
       "2020/11/14 01:20:07.549         0.998040\n",
       "2020/11/14 01:20:07.649         0.997046\n",
       "...                                  ...\n",
       "2020/11/14 06:40:50.347         0.998916\n",
       "2020/11/14 06:40:50.448         0.998916\n",
       "2020/11/14 06:40:50.547         0.998916\n",
       "2020/11/14 06:40:50.646         0.998916\n",
       "2020/11/14 06:40:50.769         0.998916\n",
       "\n",
       "[192341 rows x 1 columns]"
      ]
     },
     "execution_count": 2,
     "metadata": {},
     "output_type": "execute_result"
    }
   ],
   "source": [
    "data=pd.read_csv('./Desktop/work/acceleration.csv',index_col=0)\n",
    "data"
   ]
  },
  {
   "cell_type": "code",
   "execution_count": 3,
   "metadata": {
    "scrolled": true
   },
   "outputs": [],
   "source": [
    "#1時間ごとにまとめる\n",
    "data.index=pd.to_datetime(data.index)\n",
    "data_per_hour=data.resample('H').mean()"
   ]
  },
  {
   "cell_type": "code",
   "execution_count": 4,
   "metadata": {},
   "outputs": [
    {
     "data": {
      "text/plain": [
       "<AxesSubplot:xlabel='Timestamp'>"
      ]
     },
     "execution_count": 4,
     "metadata": {},
     "output_type": "execute_result"
    },
    {
     "data": {
      "image/png": "[encoded data removed]",
      "text/plain": [
       "<Figure size 432x288 with 1 Axes>"
      ]
     },
     "metadata": {
      "needs_background": "light"
     },
     "output_type": "display_data"
    }
   ],
   "source": [
    "#睡眠体動の全体像\n",
    "data.plot()"
   ]
  },
  {
   "cell_type": "code",
   "execution_count": 5,
   "metadata": {},
   "outputs": [
    {
     "data": {
      "text/html": [
       "<div>\n",
       "<style scoped>\n",
       "    .dataframe tbody tr th:only-of-type {\n",
       "        vertical-align: middle;\n",
       "    }\n",
       "\n",
       "    .dataframe tbody tr th {\n",
       "        vertical-align: top;\n",
       "    }\n",
       "\n",
       "    .dataframe thead th {\n",
       "        text-align: right;\n",
       "    }\n",
       "</style>\n",
       "<table border=\"1\" class=\"dataframe\">\n",
       "  <thead>\n",
       "    <tr style=\"text-align: right;\">\n",
       "      <th></th>\n",
       "      <th>Acceleration(G)</th>\n",
       "    </tr>\n",
       "    <tr>\n",
       "      <th>Timestamp</th>\n",
       "      <th></th>\n",
       "    </tr>\n",
       "  </thead>\n",
       "  <tbody>\n",
       "    <tr>\n",
       "      <th>2020-11-14 01:00:00</th>\n",
       "      <td>0.997152</td>\n",
       "    </tr>\n",
       "    <tr>\n",
       "      <th>2020-11-14 02:00:00</th>\n",
       "      <td>0.997542</td>\n",
       "    </tr>\n",
       "    <tr>\n",
       "      <th>2020-11-14 03:00:00</th>\n",
       "      <td>0.997692</td>\n",
       "    </tr>\n",
       "    <tr>\n",
       "      <th>2020-11-14 04:00:00</th>\n",
       "      <td>0.997781</td>\n",
       "    </tr>\n",
       "    <tr>\n",
       "      <th>2020-11-14 05:00:00</th>\n",
       "      <td>0.997787</td>\n",
       "    </tr>\n",
       "    <tr>\n",
       "      <th>2020-11-14 06:00:00</th>\n",
       "      <td>0.997844</td>\n",
       "    </tr>\n",
       "  </tbody>\n",
       "</table>\n",
       "</div>"
      ],
      "text/plain": [
       "                     Acceleration(G)\n",
       "Timestamp                           \n",
       "2020-11-14 01:00:00         0.997152\n",
       "2020-11-14 02:00:00         0.997542\n",
       "2020-11-14 03:00:00         0.997692\n",
       "2020-11-14 04:00:00         0.997781\n",
       "2020-11-14 05:00:00         0.997787\n",
       "2020-11-14 06:00:00         0.997844"
      ]
     },
     "execution_count": 5,
     "metadata": {},
     "output_type": "execute_result"
    }
   ],
   "source": [
    "data_per_hour"
   ]
  },
  {
   "cell_type": "code",
   "execution_count": 6,
   "metadata": {},
   "outputs": [
    {
     "data": {
      "text/plain": [
       "<AxesSubplot:xlabel='Timestamp'>"
      ]
     },
     "execution_count": 6,
     "metadata": {},
     "output_type": "execute_result"
    },
    {
     "data": {
      "image/png": "[encoded data removed]",
      "text/plain": [
       "<Figure size 432x288 with 1 Axes>"
      ]
     },
     "metadata": {
      "needs_background": "light"
     },
     "output_type": "display_data"
    }
   ],
   "source": [
    "#１時間ごとの睡眠体動の平均加速度\n",
    "data_per_hour.plot()"
   ]
  },
  {
   "cell_type": "code",
   "execution_count": 7,
   "metadata": {
    "scrolled": true
   },
   "outputs": [
    {
     "data": {
      "text/html": [
       "<div>\n",
       "<style scoped>\n",
       "    .dataframe tbody tr th:only-of-type {\n",
       "        vertical-align: middle;\n",
       "    }\n",
       "\n",
       "    .dataframe tbody tr th {\n",
       "        vertical-align: top;\n",
       "    }\n",
       "\n",
       "    .dataframe thead th {\n",
       "        text-align: right;\n",
       "    }\n",
       "</style>\n",
       "<table border=\"1\" class=\"dataframe\">\n",
       "  <thead>\n",
       "    <tr style=\"text-align: right;\">\n",
       "      <th></th>\n",
       "      <th>Acceleration(G)</th>\n",
       "    </tr>\n",
       "    <tr>\n",
       "      <th>Timestamp</th>\n",
       "      <th></th>\n",
       "    </tr>\n",
       "  </thead>\n",
       "  <tbody>\n",
       "    <tr>\n",
       "      <th>2020-11-14 01:20:07.257</th>\n",
       "      <td>0.998107</td>\n",
       "    </tr>\n",
       "    <tr>\n",
       "      <th>2020-11-14 01:20:07.349</th>\n",
       "      <td>0.996777</td>\n",
       "    </tr>\n",
       "    <tr>\n",
       "      <th>2020-11-14 01:20:07.448</th>\n",
       "      <td>0.993744</td>\n",
       "    </tr>\n",
       "    <tr>\n",
       "      <th>2020-11-14 01:20:07.549</th>\n",
       "      <td>0.998040</td>\n",
       "    </tr>\n",
       "    <tr>\n",
       "      <th>2020-11-14 01:20:07.649</th>\n",
       "      <td>0.997046</td>\n",
       "    </tr>\n",
       "    <tr>\n",
       "      <th>...</th>\n",
       "      <td>...</td>\n",
       "    </tr>\n",
       "    <tr>\n",
       "      <th>2020-11-14 06:40:50.347</th>\n",
       "      <td>0.998916</td>\n",
       "    </tr>\n",
       "    <tr>\n",
       "      <th>2020-11-14 06:40:50.448</th>\n",
       "      <td>0.998916</td>\n",
       "    </tr>\n",
       "    <tr>\n",
       "      <th>2020-11-14 06:40:50.547</th>\n",
       "      <td>0.998916</td>\n",
       "    </tr>\n",
       "    <tr>\n",
       "      <th>2020-11-14 06:40:50.646</th>\n",
       "      <td>0.998916</td>\n",
       "    </tr>\n",
       "    <tr>\n",
       "      <th>2020-11-14 06:40:50.769</th>\n",
       "      <td>0.998916</td>\n",
       "    </tr>\n",
       "  </tbody>\n",
       "</table>\n",
       "<p>192341 rows × 1 columns</p>\n",
       "</div>"
      ],
      "text/plain": [
       "                         Acceleration(G)\n",
       "Timestamp                               \n",
       "2020-11-14 01:20:07.257         0.998107\n",
       "2020-11-14 01:20:07.349         0.996777\n",
       "2020-11-14 01:20:07.448         0.993744\n",
       "2020-11-14 01:20:07.549         0.998040\n",
       "2020-11-14 01:20:07.649         0.997046\n",
       "...                                  ...\n",
       "2020-11-14 06:40:50.347         0.998916\n",
       "2020-11-14 06:40:50.448         0.998916\n",
       "2020-11-14 06:40:50.547         0.998916\n",
       "2020-11-14 06:40:50.646         0.998916\n",
       "2020-11-14 06:40:50.769         0.998916\n",
       "\n",
       "[192341 rows x 1 columns]"
      ]
     },
     "execution_count": 7,
     "metadata": {},
     "output_type": "execute_result"
    }
   ],
   "source": [
    "data"
   ]
  },
  {
   "cell_type": "code",
   "execution_count": 8,
   "metadata": {},
   "outputs": [
    {
     "data": {
      "text/html": [
       "<div>\n",
       "<style scoped>\n",
       "    .dataframe tbody tr th:only-of-type {\n",
       "        vertical-align: middle;\n",
       "    }\n",
       "\n",
       "    .dataframe tbody tr th {\n",
       "        vertical-align: top;\n",
       "    }\n",
       "\n",
       "    .dataframe thead th {\n",
       "        text-align: right;\n",
       "    }\n",
       "</style>\n",
       "<table border=\"1\" class=\"dataframe\">\n",
       "  <thead>\n",
       "    <tr style=\"text-align: right;\">\n",
       "      <th></th>\n",
       "      <th>Acceleration(G)</th>\n",
       "    </tr>\n",
       "    <tr>\n",
       "      <th>Timestamp</th>\n",
       "      <th></th>\n",
       "    </tr>\n",
       "  </thead>\n",
       "  <tbody>\n",
       "    <tr>\n",
       "      <th>2020-11-14 01:00:00</th>\n",
       "      <td>AxesSubplot(0.125,0.2;0.775x0.68)</td>\n",
       "    </tr>\n",
       "    <tr>\n",
       "      <th>2020-11-14 02:00:00</th>\n",
       "      <td>AxesSubplot(0.125,0.2;0.775x0.68)</td>\n",
       "    </tr>\n",
       "    <tr>\n",
       "      <th>2020-11-14 03:00:00</th>\n",
       "      <td>AxesSubplot(0.125,0.2;0.775x0.68)</td>\n",
       "    </tr>\n",
       "    <tr>\n",
       "      <th>2020-11-14 04:00:00</th>\n",
       "      <td>AxesSubplot(0.125,0.2;0.775x0.68)</td>\n",
       "    </tr>\n",
       "    <tr>\n",
       "      <th>2020-11-14 05:00:00</th>\n",
       "      <td>AxesSubplot(0.125,0.2;0.775x0.68)</td>\n",
       "    </tr>\n",
       "    <tr>\n",
       "      <th>2020-11-14 06:00:00</th>\n",
       "      <td>AxesSubplot(0.125,0.2;0.775x0.68)</td>\n",
       "    </tr>\n",
       "  </tbody>\n",
       "</table>\n",
       "</div>"
      ],
      "text/plain": [
       "                                       Acceleration(G)\n",
       "Timestamp                                             \n",
       "2020-11-14 01:00:00  AxesSubplot(0.125,0.2;0.775x0.68)\n",
       "2020-11-14 02:00:00  AxesSubplot(0.125,0.2;0.775x0.68)\n",
       "2020-11-14 03:00:00  AxesSubplot(0.125,0.2;0.775x0.68)\n",
       "2020-11-14 04:00:00  AxesSubplot(0.125,0.2;0.775x0.68)\n",
       "2020-11-14 05:00:00  AxesSubplot(0.125,0.2;0.775x0.68)\n",
       "2020-11-14 06:00:00  AxesSubplot(0.125,0.2;0.775x0.68)"
      ]
     },
     "execution_count": 8,
     "metadata": {},
     "output_type": "execute_result"
    },
    {
     "data": {
      "image/png": "[encoded data removed]",
      "text/plain": [
       "<Figure size 432x288 with 1 Axes>"
      ]
     },
     "metadata": {
      "needs_background": "light"
     },
     "output_type": "display_data"
    }
   ],
   "source": [
    "data_h=data.resample('H')\n",
    "data_h.plot()"
   ]
  },
  {
   "cell_type": "code",
   "execution_count": 11,
   "metadata": {},
   "outputs": [
    {
     "data": {
      "text/html": [
       "<div>\n",
       "<style scoped>\n",
       "    .dataframe tbody tr th:only-of-type {\n",
       "        vertical-align: middle;\n",
       "    }\n",
       "\n",
       "    .dataframe tbody tr th {\n",
       "        vertical-align: top;\n",
       "    }\n",
       "\n",
       "    .dataframe thead th {\n",
       "        text-align: right;\n",
       "    }\n",
       "</style>\n",
       "<table border=\"1\" class=\"dataframe\">\n",
       "  <thead>\n",
       "    <tr style=\"text-align: right;\">\n",
       "      <th></th>\n",
       "      <th>Acceleration(G)</th>\n",
       "    </tr>\n",
       "    <tr>\n",
       "      <th>Timestamp</th>\n",
       "      <th></th>\n",
       "    </tr>\n",
       "  </thead>\n",
       "  <tbody>\n",
       "    <tr>\n",
       "      <th>2020-11-14 01:00:00</th>\n",
       "      <td>23831</td>\n",
       "    </tr>\n",
       "    <tr>\n",
       "      <th>2020-11-14 02:00:00</th>\n",
       "      <td>36000</td>\n",
       "    </tr>\n",
       "    <tr>\n",
       "      <th>2020-11-14 03:00:00</th>\n",
       "      <td>36001</td>\n",
       "    </tr>\n",
       "    <tr>\n",
       "      <th>2020-11-14 04:00:00</th>\n",
       "      <td>36001</td>\n",
       "    </tr>\n",
       "    <tr>\n",
       "      <th>2020-11-14 05:00:00</th>\n",
       "      <td>35999</td>\n",
       "    </tr>\n",
       "    <tr>\n",
       "      <th>2020-11-14 06:00:00</th>\n",
       "      <td>24509</td>\n",
       "    </tr>\n",
       "  </tbody>\n",
       "</table>\n",
       "</div>"
      ],
      "text/plain": [
       "                     Acceleration(G)\n",
       "Timestamp                           \n",
       "2020-11-14 01:00:00            23831\n",
       "2020-11-14 02:00:00            36000\n",
       "2020-11-14 03:00:00            36001\n",
       "2020-11-14 04:00:00            36001\n",
       "2020-11-14 05:00:00            35999\n",
       "2020-11-14 06:00:00            24509"
      ]
     },
     "execution_count": 11,
     "metadata": {},
     "output_type": "execute_result"
    }
   ],
   "source": [
    "data_h.count()"
   ]
  },
  {
   "cell_type": "code",
   "execution_count": 35,
   "metadata": {},
   "outputs": [],
   "source": [
    "#１時台の体動データ\n",
    "df1=data[:23831]\n",
    "\n",
    "#2時台の体動データ\n",
    "df2=data[23832:36000+23831]\n",
    "\n",
    "#3時台の体動データ\n",
    "df3=data[59832:36001+59831]\n",
    "\n",
    "#4時台の体動データ\n",
    "df4=data[95833:36001+95832]\n",
    "\n",
    "#5時台の体動データ\n",
    "df5=data[131833:131832+35999]\n",
    "\n",
    "#6時台の体動データ\n",
    "df6=data[167832:167831+24509]"
   ]
  },
  {
   "cell_type": "code",
   "execution_count": 63,
   "metadata": {},
   "outputs": [
    {
     "data": {
      "text/plain": [
       "[<matplotlib.lines.Line2D at 0x1267f5580>]"
      ]
     },
     "execution_count": 63,
     "metadata": {},
     "output_type": "execute_result"
    },
    {
     "data": {
      "image/png": "[encoded data removed]",
      "text/plain": [
       "<Figure size 2160x1224 with 6 Axes>"
      ]
     },
     "metadata": {
      "needs_background": "light"
     },
     "output_type": "display_data"
    }
   ],
   "source": [
    "#1時間ごとの加速度データの可視化\n",
    "fig, axes=plt.subplots(2,3, sharey=True, figsize=(30,17))\n",
    "axes[0,0].plot(df1)\n",
    "axes[0,1].plot(df2)\n",
    "axes[0,2].plot(df3)\n",
    "axes[1,0].plot(df4)\n",
    "axes[1,1].plot(df5)\n",
    "axes[1,2].plot(df6)"
   ]
  }
 ],
 "metadata": {
  "kernelspec": {
   "display_name": "Python 3",
   "language": "python",
   "name": "python3"
  },
  "language_info": {
   "codemirror_mode": {
    "name": "ipython",
    "version": 3
   },
   "file_extension": ".py",
   "mimetype": "text/x-python",
   "name": "python",
   "nbconvert_exporter": "python",
   "pygments_lexer": "ipython3",
   "version": "3.8.3"
  }
 },
 "nbformat": 4,
 "nbformat_minor": 4
}
