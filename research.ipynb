{
 "cells": [
  {
   "cell_type": "code",
   "execution_count": 1,
   "metadata": {},
   "outputs": [],
   "source": [
    "import numpy as np\n",
    "import matplotlib.pyplot as plt\n",
    "%matplotlib inline\n",
    "import tensorflow as tf\n",
    "from tensorflow.keras import layers,models,optimizers\n",
    "from tensorflow.keras.preprocessing.image import ImageDataGenerator\n",
    "from tensorflow.keras.preprocessing import image\n",
    "from tensorflow.keras.applications import VGG16\n",
    "import tensorflow.keras"
   ]
  },
  {
   "cell_type": "code",
   "execution_count": 2,
   "metadata": {},
   "outputs": [],
   "source": [
    "train_dir='Documents/Watanabe_lab/Research_data/DeepLearning/train'\n",
    "valid_dir='Documents/Watanabe_lab/Research_data/DeepLearning/validation'\n",
    "test_dir='Documents/Watanabe_lab/Research_data/DeepLearning/test'"
   ]
  },
  {
   "cell_type": "code",
   "execution_count": 3,
   "metadata": {},
   "outputs": [],
   "source": [
    "conv_base=VGG16(weights='imagenet',\n",
    "               include_top=False,\n",
    "               input_shape=(200,200,3))"
   ]
  },
  {
   "cell_type": "code",
   "execution_count": 4,
   "metadata": {},
   "outputs": [
    {
     "name": "stdout",
     "output_type": "stream",
     "text": [
      "Model: \"vgg16\"\n",
      "_________________________________________________________________\n",
      "Layer (type)                 Output Shape              Param #   \n",
      "=================================================================\n",
      "input_1 (InputLayer)         [(None, 200, 200, 3)]     0         \n",
      "_________________________________________________________________\n",
      "block1_conv1 (Conv2D)        (None, 200, 200, 64)      1792      \n",
      "_________________________________________________________________\n",
      "block1_conv2 (Conv2D)        (None, 200, 200, 64)      36928     \n",
      "_________________________________________________________________\n",
      "block1_pool (MaxPooling2D)   (None, 100, 100, 64)      0         \n",
      "_________________________________________________________________\n",
      "block2_conv1 (Conv2D)        (None, 100, 100, 128)     73856     \n",
      "_________________________________________________________________\n",
      "block2_conv2 (Conv2D)        (None, 100, 100, 128)     147584    \n",
      "_________________________________________________________________\n",
      "block2_pool (MaxPooling2D)   (None, 50, 50, 128)       0         \n",
      "_________________________________________________________________\n",
      "block3_conv1 (Conv2D)        (None, 50, 50, 256)       295168    \n",
      "_________________________________________________________________\n",
      "block3_conv2 (Conv2D)        (None, 50, 50, 256)       590080    \n",
      "_________________________________________________________________\n",
      "block3_conv3 (Conv2D)        (None, 50, 50, 256)       590080    \n",
      "_________________________________________________________________\n",
      "block3_pool (MaxPooling2D)   (None, 25, 25, 256)       0         \n",
      "_________________________________________________________________\n",
      "block4_conv1 (Conv2D)        (None, 25, 25, 512)       1180160   \n",
      "_________________________________________________________________\n",
      "block4_conv2 (Conv2D)        (None, 25, 25, 512)       2359808   \n",
      "_________________________________________________________________\n",
      "block4_conv3 (Conv2D)        (None, 25, 25, 512)       2359808   \n",
      "_________________________________________________________________\n",
      "block4_pool (MaxPooling2D)   (None, 12, 12, 512)       0         \n",
      "_________________________________________________________________\n",
      "block5_conv1 (Conv2D)        (None, 12, 12, 512)       2359808   \n",
      "_________________________________________________________________\n",
      "block5_conv2 (Conv2D)        (None, 12, 12, 512)       2359808   \n",
      "_________________________________________________________________\n",
      "block5_conv3 (Conv2D)        (None, 12, 12, 512)       2359808   \n",
      "_________________________________________________________________\n",
      "block5_pool (MaxPooling2D)   (None, 6, 6, 512)         0         \n",
      "=================================================================\n",
      "Total params: 14,714,688\n",
      "Trainable params: 14,714,688\n",
      "Non-trainable params: 0\n",
      "_________________________________________________________________\n"
     ]
    }
   ],
   "source": [
    "conv_base.summary()"
   ]
  },
  {
   "cell_type": "code",
   "execution_count": 5,
   "metadata": {},
   "outputs": [],
   "source": [
    "datagen=ImageDataGenerator(rescale=1/255)\n",
    "batch_size=20\n",
    "\n",
    "def extract_features(directory,sample_count):\n",
    "    features=np.zeros(shape=(sample_count,6,6,512))\n",
    "    labels=np.zeros(shape=(sample_count))\n",
    "    generator=datagen.flow_from_directory(directory,target_size=(200,200),\n",
    "                                         batch_size=batch_size,\n",
    "                                         class_mode='binary')\n",
    "    \n",
    "    i=0\n",
    "    for input_batch,labels_batch in generator:\n",
    "        features_batch=conv_base.predict(input_batch)\n",
    "        features[i*batch_size:(i+1)*batch_size]=features_batch\n",
    "        labels[i*batch_size:(i+1)*batch_size]=labels_batch\n",
    "        i+=1\n",
    "        if i*batch_size>=sample_count:\n",
    "            break\n",
    "            \n",
    "    \n",
    "    return features,labels"
   ]
  },
  {
   "cell_type": "code",
   "execution_count": 6,
   "metadata": {},
   "outputs": [
    {
     "name": "stdout",
     "output_type": "stream",
     "text": [
      "Found 285 images belonging to 2 classes.\n",
      "Found 106 images belonging to 2 classes.\n",
      "Found 99 images belonging to 2 classes.\n"
     ]
    }
   ],
   "source": [
    "train_features,train_labels=extract_features(train_dir,285)\n",
    "val_features,val_labels=extract_features(valid_dir,106)\n",
    "test_features,test_labels=extract_features(test_dir,99)"
   ]
  },
  {
   "cell_type": "code",
   "execution_count": 7,
   "metadata": {},
   "outputs": [],
   "source": [
    "train_features=np.reshape(train_features,(285,6*6*512))\n",
    "val_features=np.reshape(val_features,(106,6*6*512))\n",
    "test_features=np.reshape(test_features,(99,6*6*512))"
   ]
  },
  {
   "cell_type": "code",
   "execution_count": 8,
   "metadata": {},
   "outputs": [
    {
     "name": "stdout",
     "output_type": "stream",
     "text": [
      "Epoch 1/50\n",
      "15/15 [==============================] - 1s 58ms/step - loss: 0.6461 - acc: 0.6632 - val_loss: 0.3717 - val_acc: 0.8491\n",
      "Epoch 2/50\n",
      "15/15 [==============================] - 1s 47ms/step - loss: 0.5914 - acc: 0.7228 - val_loss: 0.3970 - val_acc: 0.8679\n",
      "Epoch 3/50\n",
      "15/15 [==============================] - 1s 49ms/step - loss: 0.4971 - acc: 0.7895 - val_loss: 0.4203 - val_acc: 0.8962\n",
      "Epoch 4/50\n",
      "15/15 [==============================] - 1s 47ms/step - loss: 0.4627 - acc: 0.8000 - val_loss: 0.3446 - val_acc: 0.8774\n",
      "Epoch 5/50\n",
      "15/15 [==============================] - 1s 50ms/step - loss: 0.4421 - acc: 0.8070 - val_loss: 0.3652 - val_acc: 0.8868\n",
      "Epoch 6/50\n",
      "15/15 [==============================] - 1s 52ms/step - loss: 0.4125 - acc: 0.8211 - val_loss: 0.3508 - val_acc: 0.8774\n",
      "Epoch 7/50\n",
      "15/15 [==============================] - 1s 50ms/step - loss: 0.3692 - acc: 0.8316 - val_loss: 0.3112 - val_acc: 0.8679\n",
      "Epoch 8/50\n",
      "15/15 [==============================] - 1s 47ms/step - loss: 0.3461 - acc: 0.8667 - val_loss: 0.3492 - val_acc: 0.8868\n",
      "Epoch 9/50\n",
      "15/15 [==============================] - 1s 52ms/step - loss: 0.3336 - acc: 0.8632 - val_loss: 0.3644 - val_acc: 0.8774\n",
      "Epoch 10/50\n",
      "15/15 [==============================] - 1s 52ms/step - loss: 0.3174 - acc: 0.8947 - val_loss: 0.3010 - val_acc: 0.8774\n",
      "Epoch 11/50\n",
      "15/15 [==============================] - 1s 51ms/step - loss: 0.3021 - acc: 0.9053 - val_loss: 0.3151 - val_acc: 0.8868\n",
      "Epoch 12/50\n",
      "15/15 [==============================] - 1s 50ms/step - loss: 0.2699 - acc: 0.8947 - val_loss: 0.4181 - val_acc: 0.8302\n",
      "Epoch 13/50\n",
      "15/15 [==============================] - 1s 48ms/step - loss: 0.2708 - acc: 0.9088 - val_loss: 0.2961 - val_acc: 0.8868\n"
     ]
    }
   ],
   "source": [
    "model=models.Sequential()\n",
    "model.add(layers.Dense(256,activation='relu',input_dim=6*6*512))\n",
    "model.add(layers.Dropout(0.5))\n",
    "model.add(layers.Dense(1,activation='sigmoid'))\n",
    "\n",
    "model.compile(optimizer=optimizers.RMSprop(lr=2e-5),\n",
    "             loss='binary_crossentropy',\n",
    "             metrics=['acc'])\n",
    "\n",
    "callbacks=[\n",
    "    tensorflow.keras.callbacks.EarlyStopping(\n",
    "    monitor='val_acc',\n",
    "    patience=10),\n",
    "    \n",
    "    tensorflow.keras.callbacks.TensorBoard(\n",
    "    log_dir='my_log_dir',\n",
    "    histogram_freq=1,\n",
    "    embeddings_freq=1)]\n",
    "\n",
    "history=model.fit(train_features,train_labels,\n",
    "                 epochs=50,\n",
    "                 batch_size=20,\n",
    "                 validation_data=(val_features,val_labels),\n",
    "                 callbacks=callbacks)"
   ]
  },
  {
   "cell_type": "code",
   "execution_count": null,
   "metadata": {},
   "outputs": [
    {
     "name": "stdout",
     "output_type": "stream",
     "text": [
      "Serving TensorBoard on localhost; to expose to the network, use a proxy or pass --bind_all\r\n",
      "TensorBoard 2.2.1 at http://localhost:6006/ (Press CTRL+C to quit)\r\n"
     ]
    }
   ],
   "source": [
    "!tensorboard --logdir=my_log_dir"
   ]
  },
  {
   "cell_type": "code",
   "execution_count": null,
   "metadata": {},
   "outputs": [],
   "source": []
  }
 ],
 "metadata": {
  "kernelspec": {
   "display_name": "Python 3",
   "language": "python",
   "name": "python3"
  },
  "language_info": {
   "codemirror_mode": {
    "name": "ipython",
    "version": 3
   },
   "file_extension": ".py",
   "mimetype": "text/x-python",
   "name": "python",
   "nbconvert_exporter": "python",
   "pygments_lexer": "ipython3",
   "version": "3.7.4"
  }
 },
 "nbformat": 4,
 "nbformat_minor": 2
}
